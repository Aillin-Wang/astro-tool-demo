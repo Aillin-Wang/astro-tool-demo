{
 "cells": [
  {
   "cell_type": "code",
   "execution_count": 2,
   "metadata": {},
   "outputs": [
    {
     "name": "stdout",
     "output_type": "stream",
     "text": [
      "赤经（时:分:秒）: 17:40:07.2\n",
      "赤纬（度:分:秒）: 9:48:36\n"
     ]
    }
   ],
   "source": [
    "from astropy.coordinates import SkyCoord\n",
    "from astropy import units as u\n",
    "\n",
    "# 赤经和赤纬的值\n",
    "ra = 265.03  # 赤经，单位为度\n",
    "dec = 9.81  # 赤纬，单位为度\n",
    "\n",
    "# 创建SkyCoord对象\n",
    "coord = SkyCoord(ra=ra*u.degree, dec=dec*u.degree, frame='icrs')\n",
    "\n",
    "# 打印转换后的时分秒格式\n",
    "print(\"赤经（时:分:秒）:\", coord.ra.to_string(unit=u.hour, sep=':'))\n",
    "print(\"赤纬（度:分:秒）:\", coord.dec.to_string(unit=u.degree, sep=':'))\n"
   ]
  },
  {
   "cell_type": "code",
   "execution_count": 3,
   "metadata": {},
   "outputs": [
    {
     "name": "stdout",
     "output_type": "stream",
     "text": [
      "赤经（时:分:秒）: 4:26:31.2\n",
      "赤纬（度:分:秒）: 54:37:48\n"
     ]
    }
   ],
   "source": [
    "# 赤经和赤纬的值\n",
    "ra = 66.63   # 赤经，单位为度\n",
    "dec = 54.63  # 赤纬，单位为度\n",
    "\n",
    "# 创建SkyCoord对象\n",
    "coord = SkyCoord(ra=ra*u.degree, dec=dec*u.degree, frame='icrs')\n",
    "\n",
    "# 打印转换后的时分秒格式\n",
    "print(\"赤经（时:分:秒）:\", coord.ra.to_string(unit=u.hour, sep=':'))\n",
    "print(\"赤纬（度:分:秒）:\", coord.dec.to_string(unit=u.degree, sep=':'))\n"
   ]
  },
  {
   "cell_type": "code",
   "execution_count": 4,
   "metadata": {},
   "outputs": [
    {
     "name": "stdout",
     "output_type": "stream",
     "text": [
      "赤经（时:分:秒）: 10:35:24.24\n",
      "赤纬（度:分:秒）: -35:44:49.2\n"
     ]
    }
   ],
   "source": [
    "# 158.85100 -35.74700\n",
    "\n",
    "\n",
    "# 赤经和赤纬的值\n",
    "ra = 158.85100   # 赤经，单位为度\n",
    "dec = -35.74700  # 赤纬，单位为度\n",
    "\n",
    "# 创建SkyCoord对象\n",
    "coord = SkyCoord(ra=ra*u.degree, dec=dec*u.degree, frame='icrs')\n",
    "\n",
    "# 打印转换后的时分秒格式\n",
    "print(\"赤经（时:分:秒）:\", coord.ra.to_string(unit=u.hour, sep=':'))\n",
    "print(\"赤纬（度:分:秒）:\", coord.dec.to_string(unit=u.degree, sep=':'))\n"
   ]
  },
  {
   "cell_type": "code",
   "execution_count": null,
   "metadata": {},
   "outputs": [],
   "source": []
  }
 ],
 "metadata": {
  "kernelspec": {
   "display_name": "base",
   "language": "python",
   "name": "python3"
  },
  "language_info": {
   "codemirror_mode": {
    "name": "ipython",
    "version": 3
   },
   "file_extension": ".py",
   "mimetype": "text/x-python",
   "name": "python",
   "nbconvert_exporter": "python",
   "pygments_lexer": "ipython3",
   "version": "3.8.5"
  }
 },
 "nbformat": 4,
 "nbformat_minor": 2
}
